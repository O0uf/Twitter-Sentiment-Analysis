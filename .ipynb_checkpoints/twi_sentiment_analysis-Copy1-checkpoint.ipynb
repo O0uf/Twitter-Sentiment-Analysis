{
 "cells": [
  {
   "cell_type": "markdown",
   "id": "e1e97962",
   "metadata": {},
   "source": [
    "# Twitter Sentiment Analysis "
   ]
  },
  {
   "cell_type": "markdown",
   "id": "f0c9f479",
   "metadata": {},
   "source": [
    "## Introduction\n",
    "\n",
    "\n",
    "this copy is for saving intermediate step: preprocessing steps combined"
   ]
  },
  {
   "cell_type": "markdown",
   "id": "9dceca3f",
   "metadata": {},
   "source": [
    "### Loads Data & Packages  "
   ]
  },
  {
   "cell_type": "code",
   "execution_count": 89,
   "id": "8306553a",
   "metadata": {
    "code_folding": []
   },
   "outputs": [],
   "source": [
    "# basic\n",
    "import numpy as np\n",
    "import pandas as pd\n",
    "import re\n",
    "import string\n",
    "# Preprocessing\n",
    "from nltk.tokenize import RegexpTokenizer\n",
    "from nltk.stem import WordNetLemmatizer\n",
    "from nltk.corpus import stopwords\n",
    "# visualization\n",
    "import matplotlib.pyplot as plt\n",
    "import seaborn as sns\n",
    "\n",
    "# ML models\n",
    "import nltk\n",
    "\n",
    "from sklearn.feature_extraction.text import TfidfVectorizer\n",
    "from sklearn.cluster import KMeans\n",
    "from sklearn.metrics import adjusted_rand_score"
   ]
  },
  {
   "cell_type": "code",
   "execution_count": 74,
   "id": "7016d028",
   "metadata": {},
   "outputs": [
    {
     "data": {
      "text/html": [
       "<div>\n",
       "<style scoped>\n",
       "    .dataframe tbody tr th:only-of-type {\n",
       "        vertical-align: middle;\n",
       "    }\n",
       "\n",
       "    .dataframe tbody tr th {\n",
       "        vertical-align: top;\n",
       "    }\n",
       "\n",
       "    .dataframe thead th {\n",
       "        text-align: right;\n",
       "    }\n",
       "</style>\n",
       "<table border=\"1\" class=\"dataframe\">\n",
       "  <thead>\n",
       "    <tr style=\"text-align: right;\">\n",
       "      <th></th>\n",
       "      <th>textID</th>\n",
       "      <th>text</th>\n",
       "      <th>selected_text</th>\n",
       "      <th>sentiment</th>\n",
       "    </tr>\n",
       "  </thead>\n",
       "  <tbody>\n",
       "    <tr>\n",
       "      <th>0</th>\n",
       "      <td>cb774db0d1</td>\n",
       "      <td>I`d have responded, if I were going</td>\n",
       "      <td>I`d have responded, if I were going</td>\n",
       "      <td>neutral</td>\n",
       "    </tr>\n",
       "    <tr>\n",
       "      <th>1</th>\n",
       "      <td>549e992a42</td>\n",
       "      <td>Sooo SAD I will miss you here in San Diego!!!</td>\n",
       "      <td>Sooo SAD</td>\n",
       "      <td>negative</td>\n",
       "    </tr>\n",
       "    <tr>\n",
       "      <th>2</th>\n",
       "      <td>088c60f138</td>\n",
       "      <td>my boss is bullying me...</td>\n",
       "      <td>bullying me</td>\n",
       "      <td>negative</td>\n",
       "    </tr>\n",
       "    <tr>\n",
       "      <th>3</th>\n",
       "      <td>9642c003ef</td>\n",
       "      <td>what interview! leave me alone</td>\n",
       "      <td>leave me alone</td>\n",
       "      <td>negative</td>\n",
       "    </tr>\n",
       "    <tr>\n",
       "      <th>4</th>\n",
       "      <td>358bd9e861</td>\n",
       "      <td>Sons of ****, why couldn`t they put them on t...</td>\n",
       "      <td>Sons of ****,</td>\n",
       "      <td>negative</td>\n",
       "    </tr>\n",
       "  </tbody>\n",
       "</table>\n",
       "</div>"
      ],
      "text/plain": [
       "       textID                                               text  \\\n",
       "0  cb774db0d1                I`d have responded, if I were going   \n",
       "1  549e992a42      Sooo SAD I will miss you here in San Diego!!!   \n",
       "2  088c60f138                          my boss is bullying me...   \n",
       "3  9642c003ef                     what interview! leave me alone   \n",
       "4  358bd9e861   Sons of ****, why couldn`t they put them on t...   \n",
       "\n",
       "                         selected_text sentiment  \n",
       "0  I`d have responded, if I were going   neutral  \n",
       "1                             Sooo SAD  negative  \n",
       "2                          bullying me  negative  \n",
       "3                       leave me alone  negative  \n",
       "4                        Sons of ****,  negative  "
      ]
     },
     "execution_count": 74,
     "metadata": {},
     "output_type": "execute_result"
    }
   ],
   "source": [
    "# load data\n",
    "train = pd.read_csv('data/train.csv')\n",
    "test = pd.read_csv('data/test.csv')\n",
    "train.head()"
   ]
  },
  {
   "cell_type": "markdown",
   "id": "97b98f16",
   "metadata": {},
   "source": [
    "- `textID` - unique ID for each piece of text\n",
    "- `text` - the text of the tweet\n",
    "- `sentiment` - the general sentiment of the tweet\n",
    "- `selected_text` - [train only] the text that supports the tweet's sentiment"
   ]
  },
  {
   "cell_type": "code",
   "execution_count": 13,
   "id": "ce13cc7f",
   "metadata": {},
   "outputs": [],
   "source": [
    "def missing_value_of_data(data):\n",
    "    total=data.isnull().sum().sort_values(ascending=False)\n",
    "    percentage=round(total/data.shape[0]*100,2)\n",
    "    return pd.concat([total,percentage],axis=1,keys=['Total','Percentage'])"
   ]
  },
  {
   "cell_type": "code",
   "execution_count": 14,
   "id": "dcd5c4c0",
   "metadata": {},
   "outputs": [
    {
     "data": {
      "text/html": [
       "<div>\n",
       "<style scoped>\n",
       "    .dataframe tbody tr th:only-of-type {\n",
       "        vertical-align: middle;\n",
       "    }\n",
       "\n",
       "    .dataframe tbody tr th {\n",
       "        vertical-align: top;\n",
       "    }\n",
       "\n",
       "    .dataframe thead th {\n",
       "        text-align: right;\n",
       "    }\n",
       "</style>\n",
       "<table border=\"1\" class=\"dataframe\">\n",
       "  <thead>\n",
       "    <tr style=\"text-align: right;\">\n",
       "      <th></th>\n",
       "      <th>Total</th>\n",
       "      <th>Percentage</th>\n",
       "    </tr>\n",
       "  </thead>\n",
       "  <tbody>\n",
       "    <tr>\n",
       "      <th>text</th>\n",
       "      <td>1</td>\n",
       "      <td>0.0</td>\n",
       "    </tr>\n",
       "    <tr>\n",
       "      <th>selected_text</th>\n",
       "      <td>1</td>\n",
       "      <td>0.0</td>\n",
       "    </tr>\n",
       "    <tr>\n",
       "      <th>textID</th>\n",
       "      <td>0</td>\n",
       "      <td>0.0</td>\n",
       "    </tr>\n",
       "    <tr>\n",
       "      <th>sentiment</th>\n",
       "      <td>0</td>\n",
       "      <td>0.0</td>\n",
       "    </tr>\n",
       "  </tbody>\n",
       "</table>\n",
       "</div>"
      ],
      "text/plain": [
       "               Total  Percentage\n",
       "text               1         0.0\n",
       "selected_text      1         0.0\n",
       "textID             0         0.0\n",
       "sentiment          0         0.0"
      ]
     },
     "execution_count": 14,
     "metadata": {},
     "output_type": "execute_result"
    }
   ],
   "source": [
    "missing_value_of_data(train)"
   ]
  },
  {
   "cell_type": "code",
   "execution_count": 15,
   "id": "1d35a548",
   "metadata": {},
   "outputs": [],
   "source": [
    "def duplicated_values_data(data):\n",
    "    dup=[]\n",
    "    columns=data.columns\n",
    "    for i in data.columns:\n",
    "        dup.append(sum(data[i].duplicated()))\n",
    "    return pd.concat([pd.Series(columns),pd.Series(dup)],axis=1,keys=['Columns','Duplicate count'])"
   ]
  },
  {
   "cell_type": "code",
   "execution_count": 17,
   "id": "90695b47",
   "metadata": {},
   "outputs": [
    {
     "data": {
      "text/html": [
       "<style type=\"text/css\">\n",
       "#T_9d68a_row0_col1, #T_9d68a_row1_col1 {\n",
       "  background-color: #fcfbfd;\n",
       "  color: #000000;\n",
       "}\n",
       "#T_9d68a_row2_col1 {\n",
       "  background-color: #e6e5f1;\n",
       "  color: #000000;\n",
       "}\n",
       "#T_9d68a_row3_col1 {\n",
       "  background-color: #3f007d;\n",
       "  color: #f1f1f1;\n",
       "}\n",
       "</style>\n",
       "<table id=\"T_9d68a_\">\n",
       "  <thead>\n",
       "    <tr>\n",
       "      <th class=\"blank level0\" >&nbsp;</th>\n",
       "      <th class=\"col_heading level0 col0\" >Columns</th>\n",
       "      <th class=\"col_heading level0 col1\" >Duplicate count</th>\n",
       "    </tr>\n",
       "  </thead>\n",
       "  <tbody>\n",
       "    <tr>\n",
       "      <th id=\"T_9d68a_level0_row0\" class=\"row_heading level0 row0\" >0</th>\n",
       "      <td id=\"T_9d68a_row0_col0\" class=\"data row0 col0\" >textID</td>\n",
       "      <td id=\"T_9d68a_row0_col1\" class=\"data row0 col1\" >0</td>\n",
       "    </tr>\n",
       "    <tr>\n",
       "      <th id=\"T_9d68a_level0_row1\" class=\"row_heading level0 row1\" >1</th>\n",
       "      <td id=\"T_9d68a_row1_col0\" class=\"data row1 col0\" >text</td>\n",
       "      <td id=\"T_9d68a_row1_col1\" class=\"data row1 col1\" >0</td>\n",
       "    </tr>\n",
       "    <tr>\n",
       "      <th id=\"T_9d68a_level0_row2\" class=\"row_heading level0 row2\" >2</th>\n",
       "      <td id=\"T_9d68a_row2_col0\" class=\"data row2 col0\" >selected_text</td>\n",
       "      <td id=\"T_9d68a_row2_col1\" class=\"data row2 col1\" >5017</td>\n",
       "    </tr>\n",
       "    <tr>\n",
       "      <th id=\"T_9d68a_level0_row3\" class=\"row_heading level0 row3\" >3</th>\n",
       "      <td id=\"T_9d68a_row3_col0\" class=\"data row3 col0\" >sentiment</td>\n",
       "      <td id=\"T_9d68a_row3_col1\" class=\"data row3 col1\" >27478</td>\n",
       "    </tr>\n",
       "  </tbody>\n",
       "</table>\n"
      ],
      "text/plain": [
       "<pandas.io.formats.style.Styler at 0x7fbd254ac1c0>"
      ]
     },
     "execution_count": 17,
     "metadata": {},
     "output_type": "execute_result"
    }
   ],
   "source": [
    "duplicated_values_data(train).style.background_gradient(cmap='Purples')"
   ]
  },
  {
   "cell_type": "code",
   "execution_count": 20,
   "id": "08909822",
   "metadata": {},
   "outputs": [],
   "source": [
    "def col_dist_overview(data,col):\n",
    "    total = data.loc[:,col].value_counts()\n",
    "    freq = data.loc[:,col].value_counts(normalize=True)\n",
    "    return pd.concat([total, freq],axis=1,keys=[\"Count\",\"Frequency\"]\n",
    "                    ).style.background_gradient(cmap='Purples')"
   ]
  },
  {
   "cell_type": "code",
   "execution_count": 21,
   "id": "a9a29865",
   "metadata": {
    "scrolled": true
   },
   "outputs": [
    {
     "data": {
      "text/html": [
       "<style type=\"text/css\">\n",
       "#T_9df8b_row0_col0, #T_9df8b_row0_col1 {\n",
       "  background-color: #3f007d;\n",
       "  color: #f1f1f1;\n",
       "}\n",
       "#T_9df8b_row1_col0, #T_9df8b_row1_col1 {\n",
       "  background-color: #dcdcec;\n",
       "  color: #000000;\n",
       "}\n",
       "#T_9df8b_row2_col0, #T_9df8b_row2_col1 {\n",
       "  background-color: #fcfbfd;\n",
       "  color: #000000;\n",
       "}\n",
       "</style>\n",
       "<table id=\"T_9df8b_\">\n",
       "  <thead>\n",
       "    <tr>\n",
       "      <th class=\"blank level0\" >&nbsp;</th>\n",
       "      <th class=\"col_heading level0 col0\" >Count</th>\n",
       "      <th class=\"col_heading level0 col1\" >Frequency</th>\n",
       "    </tr>\n",
       "  </thead>\n",
       "  <tbody>\n",
       "    <tr>\n",
       "      <th id=\"T_9df8b_level0_row0\" class=\"row_heading level0 row0\" >neutral</th>\n",
       "      <td id=\"T_9df8b_row0_col0\" class=\"data row0 col0\" >11118</td>\n",
       "      <td id=\"T_9df8b_row0_col1\" class=\"data row0 col1\" >0.404570</td>\n",
       "    </tr>\n",
       "    <tr>\n",
       "      <th id=\"T_9df8b_level0_row1\" class=\"row_heading level0 row1\" >positive</th>\n",
       "      <td id=\"T_9df8b_row1_col0\" class=\"data row1 col0\" >8582</td>\n",
       "      <td id=\"T_9df8b_row1_col1\" class=\"data row1 col1\" >0.312288</td>\n",
       "    </tr>\n",
       "    <tr>\n",
       "      <th id=\"T_9df8b_level0_row2\" class=\"row_heading level0 row2\" >negative</th>\n",
       "      <td id=\"T_9df8b_row2_col0\" class=\"data row2 col0\" >7781</td>\n",
       "      <td id=\"T_9df8b_row2_col1\" class=\"data row2 col1\" >0.283141</td>\n",
       "    </tr>\n",
       "  </tbody>\n",
       "</table>\n"
      ],
      "text/plain": [
       "<pandas.io.formats.style.Styler at 0x7fbd281bc520>"
      ]
     },
     "execution_count": 21,
     "metadata": {},
     "output_type": "execute_result"
    }
   ],
   "source": [
    "col_dist_overview(train,'sentiment')"
   ]
  },
  {
   "cell_type": "code",
   "execution_count": 28,
   "id": "6589609d",
   "metadata": {},
   "outputs": [
    {
     "data": {
      "text/plain": [
       "[Text(0.5, 1.0, 'Distribution of Sentiment')]"
      ]
     },
     "execution_count": 28,
     "metadata": {},
     "output_type": "execute_result"
    },
    {
     "data": {
      "image/png": "[encoded data removed]",
      "text/plain": [
       "<Figure size 432x288 with 1 Axes>"
      ]
     },
     "metadata": {
      "needs_background": "light"
     },
     "output_type": "display_data"
    }
   ],
   "source": [
    "sns.countplot(x='sentiment',data=train).set(title='Distribution of Sentiment')"
   ]
  },
  {
   "cell_type": "markdown",
   "id": "b5786dd4",
   "metadata": {},
   "source": [
    "### Clean Texts\n",
    "- remove punctuation\n",
    "- to lower case"
   ]
  },
  {
   "cell_type": "code",
   "execution_count": 32,
   "id": "5d533b42",
   "metadata": {
    "code_folding": [
     0
    ]
   },
   "outputs": [],
   "source": [
    "def clean_text(text):\n",
    "    '''Make text lowercase, remove text in square brackets,remove links,remove punctuation\n",
    "    and remove words containing numbers.'''\n",
    "    text = str(text).lower()\n",
    "    text = re.sub('\\[.*?\\]', '', text) # remove text in brackets\n",
    "    text = re.sub('https?://\\S+|www\\.\\S+', '', text) #remove link\n",
    "    text = re.sub('<.*?>+', '', text) \n",
    "    text = re.sub('[%s]' % re.escape(string.punctuation), '', text)\n",
    "    text = re.sub('\\n', '', text)\n",
    "    text = re.sub('\\w*\\d\\w*', '', text)\n",
    "    return text"
   ]
  },
  {
   "cell_type": "code",
   "execution_count": 62,
   "id": "eee0fa71",
   "metadata": {},
   "outputs": [
    {
     "data": {
      "text/plain": [
       "pandas.core.series.Series"
      ]
     },
     "execution_count": 62,
     "metadata": {},
     "output_type": "execute_result"
    }
   ],
   "source": [
    "ori_text = train['text']"
   ]
  },
  {
   "cell_type": "code",
   "execution_count": 65,
   "id": "0b6aef2d",
   "metadata": {},
   "outputs": [
    {
     "data": {
      "text/html": [
       "<div>\n",
       "<style scoped>\n",
       "    .dataframe tbody tr th:only-of-type {\n",
       "        vertical-align: middle;\n",
       "    }\n",
       "\n",
       "    .dataframe tbody tr th {\n",
       "        vertical-align: top;\n",
       "    }\n",
       "\n",
       "    .dataframe thead th {\n",
       "        text-align: right;\n",
       "    }\n",
       "</style>\n",
       "<table border=\"1\" class=\"dataframe\">\n",
       "  <thead>\n",
       "    <tr style=\"text-align: right;\">\n",
       "      <th></th>\n",
       "      <th>text</th>\n",
       "    </tr>\n",
       "  </thead>\n",
       "  <tbody>\n",
       "    <tr>\n",
       "      <th>0</th>\n",
       "      <td>I`d have responded, if I were going</td>\n",
       "    </tr>\n",
       "    <tr>\n",
       "      <th>1</th>\n",
       "      <td>Sooo SAD I will miss you here in San Diego!!!</td>\n",
       "    </tr>\n",
       "    <tr>\n",
       "      <th>2</th>\n",
       "      <td>my boss is bullying me...</td>\n",
       "    </tr>\n",
       "    <tr>\n",
       "      <th>3</th>\n",
       "      <td>what interview! leave me alone</td>\n",
       "    </tr>\n",
       "    <tr>\n",
       "      <th>4</th>\n",
       "      <td>Sons of ****, why couldn`t they put them on t...</td>\n",
       "    </tr>\n",
       "  </tbody>\n",
       "</table>\n",
       "</div>"
      ],
      "text/plain": [
       "                                                text\n",
       "0                I`d have responded, if I were going\n",
       "1      Sooo SAD I will miss you here in San Diego!!!\n",
       "2                          my boss is bullying me...\n",
       "3                     what interview! leave me alone\n",
       "4   Sons of ****, why couldn`t they put them on t..."
      ]
     },
     "execution_count": 65,
     "metadata": {},
     "output_type": "execute_result"
    }
   ],
   "source": [
    "df = ori_text.to_frame()\n",
    "df.head()"
   ]
  },
  {
   "cell_type": "markdown",
   "id": "1650968a",
   "metadata": {},
   "source": [
    "### Remove Punctuations"
   ]
  },
  {
   "cell_type": "code",
   "execution_count": 71,
   "id": "e09b91f1",
   "metadata": {},
   "outputs": [],
   "source": [
    "#defining the function to remove punctuation\n",
    "def remove_punctuation(text):\n",
    "    punctuationfree = \"\".join([c for c in str(text) if c not in string.punctuation])\n",
    "    return punctuationfree\n",
    "#storing the puntuation free text\n",
    "df['no_punc']= df['text'].apply(lambda x:remove_punctuation(x))"
   ]
  },
  {
   "cell_type": "code",
   "execution_count": 75,
   "id": "c6d8a8da",
   "metadata": {},
   "outputs": [
    {
     "data": {
      "text/html": [
       "<div>\n",
       "<style scoped>\n",
       "    .dataframe tbody tr th:only-of-type {\n",
       "        vertical-align: middle;\n",
       "    }\n",
       "\n",
       "    .dataframe tbody tr th {\n",
       "        vertical-align: top;\n",
       "    }\n",
       "\n",
       "    .dataframe thead th {\n",
       "        text-align: right;\n",
       "    }\n",
       "</style>\n",
       "<table border=\"1\" class=\"dataframe\">\n",
       "  <thead>\n",
       "    <tr style=\"text-align: right;\">\n",
       "      <th></th>\n",
       "      <th>text</th>\n",
       "      <th>no_punc</th>\n",
       "    </tr>\n",
       "  </thead>\n",
       "  <tbody>\n",
       "    <tr>\n",
       "      <th>0</th>\n",
       "      <td>I`d have responded, if I were going</td>\n",
       "      <td>Id have responded if I were going</td>\n",
       "    </tr>\n",
       "    <tr>\n",
       "      <th>1</th>\n",
       "      <td>Sooo SAD I will miss you here in San Diego!!!</td>\n",
       "      <td>Sooo SAD I will miss you here in San Diego</td>\n",
       "    </tr>\n",
       "    <tr>\n",
       "      <th>2</th>\n",
       "      <td>my boss is bullying me...</td>\n",
       "      <td>my boss is bullying me</td>\n",
       "    </tr>\n",
       "    <tr>\n",
       "      <th>3</th>\n",
       "      <td>what interview! leave me alone</td>\n",
       "      <td>what interview leave me alone</td>\n",
       "    </tr>\n",
       "    <tr>\n",
       "      <th>4</th>\n",
       "      <td>Sons of ****, why couldn`t they put them on t...</td>\n",
       "      <td>Sons of  why couldnt they put them on the rel...</td>\n",
       "    </tr>\n",
       "  </tbody>\n",
       "</table>\n",
       "</div>"
      ],
      "text/plain": [
       "                                                text  \\\n",
       "0                I`d have responded, if I were going   \n",
       "1      Sooo SAD I will miss you here in San Diego!!!   \n",
       "2                          my boss is bullying me...   \n",
       "3                     what interview! leave me alone   \n",
       "4   Sons of ****, why couldn`t they put them on t...   \n",
       "\n",
       "                                             no_punc  \n",
       "0                  Id have responded if I were going  \n",
       "1         Sooo SAD I will miss you here in San Diego  \n",
       "2                             my boss is bullying me  \n",
       "3                      what interview leave me alone  \n",
       "4   Sons of  why couldnt they put them on the rel...  "
      ]
     },
     "execution_count": 75,
     "metadata": {},
     "output_type": "execute_result"
    }
   ],
   "source": [
    "df.head()"
   ]
  },
  {
   "cell_type": "markdown",
   "id": "e98f9a75",
   "metadata": {
    "code_folding": []
   },
   "source": [
    "### Tokenize & To lowercase"
   ]
  },
  {
   "cell_type": "code",
   "execution_count": 85,
   "id": "5507bdc3",
   "metadata": {},
   "outputs": [],
   "source": [
    "tokenizer = RegexpTokenizer(r'\\w+')\n",
    "df['tokens'] = df['no_punc'].apply(lambda x:tokenizer.tokenize(x.lower()))"
   ]
  },
  {
   "cell_type": "markdown",
   "id": "829c485d",
   "metadata": {},
   "source": [
    "### Remove Stop Words"
   ]
  },
  {
   "cell_type": "code",
   "execution_count": 87,
   "id": "aba47f74",
   "metadata": {},
   "outputs": [],
   "source": [
    "def remove_stopword(x):\n",
    "    return [y for y in x if y not in stopwords.words('english')]\n",
    "df['no_stop'] = df['tokens'].apply(lambda x:remove_stopword(x))"
   ]
  },
  {
   "cell_type": "markdown",
   "id": "cef24b23",
   "metadata": {},
   "source": [
    "### Lemmatize"
   ]
  },
  {
   "cell_type": "code",
   "execution_count": 90,
   "id": "be668d5b",
   "metadata": {},
   "outputs": [],
   "source": [
    "lemmatizer = WordNetLemmatizer()\n",
    "def lemmatize(text):\n",
    "    return [lemmatizer.lemmatize(x) for x in text]"
   ]
  },
  {
   "cell_type": "code",
   "execution_count": 91,
   "id": "6ad7ba47",
   "metadata": {},
   "outputs": [],
   "source": [
    "df['cleaned'] = df['no_stop'].apply(lambda text:lemmatize(text))"
   ]
  },
  {
   "cell_type": "code",
   "execution_count": 100,
   "id": "d231bb21",
   "metadata": {},
   "outputs": [
    {
     "data": {
      "text/html": [
       "<div>\n",
       "<style scoped>\n",
       "    .dataframe tbody tr th:only-of-type {\n",
       "        vertical-align: middle;\n",
       "    }\n",
       "\n",
       "    .dataframe tbody tr th {\n",
       "        vertical-align: top;\n",
       "    }\n",
       "\n",
       "    .dataframe thead th {\n",
       "        text-align: right;\n",
       "    }\n",
       "</style>\n",
       "<table border=\"1\" class=\"dataframe\">\n",
       "  <thead>\n",
       "    <tr style=\"text-align: right;\">\n",
       "      <th></th>\n",
       "      <th>text</th>\n",
       "      <th>no_punc</th>\n",
       "      <th>tokens</th>\n",
       "      <th>no_stop</th>\n",
       "      <th>cleaned</th>\n",
       "    </tr>\n",
       "  </thead>\n",
       "  <tbody>\n",
       "    <tr>\n",
       "      <th>0</th>\n",
       "      <td>I`d have responded, if I were going</td>\n",
       "      <td>Id have responded if I were going</td>\n",
       "      <td>[id, have, responded, if, i, were, going]</td>\n",
       "      <td>[id, responded, going]</td>\n",
       "      <td>[id, responded, going]</td>\n",
       "    </tr>\n",
       "    <tr>\n",
       "      <th>1</th>\n",
       "      <td>Sooo SAD I will miss you here in San Diego!!!</td>\n",
       "      <td>Sooo SAD I will miss you here in San Diego</td>\n",
       "      <td>[sooo, sad, i, will, miss, you, here, in, san,...</td>\n",
       "      <td>[sooo, sad, miss, san, diego]</td>\n",
       "      <td>[sooo, sad, miss, san, diego]</td>\n",
       "    </tr>\n",
       "    <tr>\n",
       "      <th>2</th>\n",
       "      <td>my boss is bullying me...</td>\n",
       "      <td>my boss is bullying me</td>\n",
       "      <td>[my, boss, is, bullying, me]</td>\n",
       "      <td>[boss, bullying]</td>\n",
       "      <td>[bos, bullying]</td>\n",
       "    </tr>\n",
       "    <tr>\n",
       "      <th>3</th>\n",
       "      <td>what interview! leave me alone</td>\n",
       "      <td>what interview leave me alone</td>\n",
       "      <td>[what, interview, leave, me, alone]</td>\n",
       "      <td>[interview, leave, alone]</td>\n",
       "      <td>[interview, leave, alone]</td>\n",
       "    </tr>\n",
       "    <tr>\n",
       "      <th>4</th>\n",
       "      <td>Sons of ****, why couldn`t they put them on t...</td>\n",
       "      <td>Sons of  why couldnt they put them on the rel...</td>\n",
       "      <td>[sons, of, why, couldnt, they, put, them, on, ...</td>\n",
       "      <td>[sons, couldnt, put, releases, already, bought]</td>\n",
       "      <td>[son, couldnt, put, release, already, bought]</td>\n",
       "    </tr>\n",
       "  </tbody>\n",
       "</table>\n",
       "</div>"
      ],
      "text/plain": [
       "                                                text  \\\n",
       "0                I`d have responded, if I were going   \n",
       "1      Sooo SAD I will miss you here in San Diego!!!   \n",
       "2                          my boss is bullying me...   \n",
       "3                     what interview! leave me alone   \n",
       "4   Sons of ****, why couldn`t they put them on t...   \n",
       "\n",
       "                                             no_punc  \\\n",
       "0                  Id have responded if I were going   \n",
       "1         Sooo SAD I will miss you here in San Diego   \n",
       "2                             my boss is bullying me   \n",
       "3                      what interview leave me alone   \n",
       "4   Sons of  why couldnt they put them on the rel...   \n",
       "\n",
       "                                              tokens  \\\n",
       "0          [id, have, responded, if, i, were, going]   \n",
       "1  [sooo, sad, i, will, miss, you, here, in, san,...   \n",
       "2                       [my, boss, is, bullying, me]   \n",
       "3                [what, interview, leave, me, alone]   \n",
       "4  [sons, of, why, couldnt, they, put, them, on, ...   \n",
       "\n",
       "                                           no_stop  \\\n",
       "0                           [id, responded, going]   \n",
       "1                    [sooo, sad, miss, san, diego]   \n",
       "2                                 [boss, bullying]   \n",
       "3                        [interview, leave, alone]   \n",
       "4  [sons, couldnt, put, releases, already, bought]   \n",
       "\n",
       "                                         cleaned  \n",
       "0                         [id, responded, going]  \n",
       "1                  [sooo, sad, miss, san, diego]  \n",
       "2                                [bos, bullying]  \n",
       "3                      [interview, leave, alone]  \n",
       "4  [son, couldnt, put, release, already, bought]  "
      ]
     },
     "execution_count": 100,
     "metadata": {},
     "output_type": "execute_result"
    }
   ],
   "source": [
    "df.head()"
   ]
  },
  {
   "cell_type": "code",
   "execution_count": 93,
   "id": "59030665",
   "metadata": {},
   "outputs": [
    {
     "data": {
      "text/html": [
       "<div>\n",
       "<style scoped>\n",
       "    .dataframe tbody tr th:only-of-type {\n",
       "        vertical-align: middle;\n",
       "    }\n",
       "\n",
       "    .dataframe tbody tr th {\n",
       "        vertical-align: top;\n",
       "    }\n",
       "\n",
       "    .dataframe thead th {\n",
       "        text-align: right;\n",
       "    }\n",
       "</style>\n",
       "<table border=\"1\" class=\"dataframe\">\n",
       "  <thead>\n",
       "    <tr style=\"text-align: right;\">\n",
       "      <th></th>\n",
       "      <th>cleaned</th>\n",
       "    </tr>\n",
       "  </thead>\n",
       "  <tbody>\n",
       "    <tr>\n",
       "      <th>0</th>\n",
       "      <td>[id, responded, going]</td>\n",
       "    </tr>\n",
       "    <tr>\n",
       "      <th>1</th>\n",
       "      <td>[sooo, sad, miss, san, diego]</td>\n",
       "    </tr>\n",
       "    <tr>\n",
       "      <th>2</th>\n",
       "      <td>[bos, bullying]</td>\n",
       "    </tr>\n",
       "    <tr>\n",
       "      <th>3</th>\n",
       "      <td>[interview, leave, alone]</td>\n",
       "    </tr>\n",
       "    <tr>\n",
       "      <th>4</th>\n",
       "      <td>[son, couldnt, put, release, already, bought]</td>\n",
       "    </tr>\n",
       "  </tbody>\n",
       "</table>\n",
       "</div>"
      ],
      "text/plain": [
       "                                         cleaned\n",
       "0                         [id, responded, going]\n",
       "1                  [sooo, sad, miss, san, diego]\n",
       "2                                [bos, bullying]\n",
       "3                      [interview, leave, alone]\n",
       "4  [son, couldnt, put, release, already, bought]"
      ]
     },
     "execution_count": 93,
     "metadata": {},
     "output_type": "execute_result"
    }
   ],
   "source": [
    "cleaned = pd.DataFrame(df['cleaned'])\n",
    "cleaned.head()"
   ]
  },
  {
   "cell_type": "code",
   "execution_count": 98,
   "id": "49e98027",
   "metadata": {},
   "outputs": [],
   "source": [
    "#cleaned.to_csv('cleaned.csv',index=False)"
   ]
  },
  {
   "cell_type": "code",
   "execution_count": 103,
   "id": "2e1a2b54",
   "metadata": {},
   "outputs": [],
   "source": [
    "cleaned['cleaned'] = cleaned['cleaned'].apply(lambda txt:\" \".join(c for c in txt))"
   ]
  },
  {
   "cell_type": "code",
   "execution_count": 104,
   "id": "1650a9d1",
   "metadata": {},
   "outputs": [],
   "source": [
    "train['clean'] = cleaned['cleaned']"
   ]
  },
  {
   "cell_type": "code",
   "execution_count": 109,
   "id": "2f042dc2",
   "metadata": {},
   "outputs": [
    {
     "data": {
      "text/html": [
       "<div>\n",
       "<style scoped>\n",
       "    .dataframe tbody tr th:only-of-type {\n",
       "        vertical-align: middle;\n",
       "    }\n",
       "\n",
       "    .dataframe tbody tr th {\n",
       "        vertical-align: top;\n",
       "    }\n",
       "\n",
       "    .dataframe thead th {\n",
       "        text-align: right;\n",
       "    }\n",
       "</style>\n",
       "<table border=\"1\" class=\"dataframe\">\n",
       "  <thead>\n",
       "    <tr style=\"text-align: right;\">\n",
       "      <th></th>\n",
       "      <th>textID</th>\n",
       "      <th>text</th>\n",
       "      <th>selected_text</th>\n",
       "      <th>sentiment</th>\n",
       "      <th>clean</th>\n",
       "    </tr>\n",
       "  </thead>\n",
       "  <tbody>\n",
       "    <tr>\n",
       "      <th>0</th>\n",
       "      <td>cb774db0d1</td>\n",
       "      <td>I`d have responded, if I were going</td>\n",
       "      <td>I`d have responded, if I were going</td>\n",
       "      <td>1</td>\n",
       "      <td>id responded going</td>\n",
       "    </tr>\n",
       "    <tr>\n",
       "      <th>1</th>\n",
       "      <td>549e992a42</td>\n",
       "      <td>Sooo SAD I will miss you here in San Diego!!!</td>\n",
       "      <td>Sooo SAD</td>\n",
       "      <td>0</td>\n",
       "      <td>sooo sad miss san diego</td>\n",
       "    </tr>\n",
       "    <tr>\n",
       "      <th>2</th>\n",
       "      <td>088c60f138</td>\n",
       "      <td>my boss is bullying me...</td>\n",
       "      <td>bullying me</td>\n",
       "      <td>0</td>\n",
       "      <td>bos bullying</td>\n",
       "    </tr>\n",
       "    <tr>\n",
       "      <th>3</th>\n",
       "      <td>9642c003ef</td>\n",
       "      <td>what interview! leave me alone</td>\n",
       "      <td>leave me alone</td>\n",
       "      <td>0</td>\n",
       "      <td>interview leave alone</td>\n",
       "    </tr>\n",
       "    <tr>\n",
       "      <th>4</th>\n",
       "      <td>358bd9e861</td>\n",
       "      <td>Sons of ****, why couldn`t they put them on t...</td>\n",
       "      <td>Sons of ****,</td>\n",
       "      <td>0</td>\n",
       "      <td>son couldnt put release already bought</td>\n",
       "    </tr>\n",
       "  </tbody>\n",
       "</table>\n",
       "</div>"
      ],
      "text/plain": [
       "       textID                                               text  \\\n",
       "0  cb774db0d1                I`d have responded, if I were going   \n",
       "1  549e992a42      Sooo SAD I will miss you here in San Diego!!!   \n",
       "2  088c60f138                          my boss is bullying me...   \n",
       "3  9642c003ef                     what interview! leave me alone   \n",
       "4  358bd9e861   Sons of ****, why couldn`t they put them on t...   \n",
       "\n",
       "                         selected_text  sentiment  \\\n",
       "0  I`d have responded, if I were going          1   \n",
       "1                             Sooo SAD          0   \n",
       "2                          bullying me          0   \n",
       "3                       leave me alone          0   \n",
       "4                        Sons of ****,          0   \n",
       "\n",
       "                                    clean  \n",
       "0                      id responded going  \n",
       "1                 sooo sad miss san diego  \n",
       "2                            bos bullying  \n",
       "3                   interview leave alone  \n",
       "4  son couldnt put release already bought  "
      ]
     },
     "execution_count": 109,
     "metadata": {},
     "output_type": "execute_result"
    }
   ],
   "source": [
    "train.head()"
   ]
  },
  {
   "cell_type": "code",
   "execution_count": 108,
   "id": "eaea8a33",
   "metadata": {},
   "outputs": [],
   "source": [
    "sentiment_map = {\n",
    "    'negative' : 0,\n",
    "    'neutral' : 1,\n",
    "    'positive' : 2\n",
    "}\n",
    "train['sentiment'] = train['sentiment'].map(sentiment_map)"
   ]
  },
  {
   "cell_type": "markdown",
   "id": "2b7b40af",
   "metadata": {},
   "source": [
    "## Combined Preprocessing Function\n",
    "\n",
    "Now we combine the preprocessing steps into one function"
   ]
  },
  {
   "cell_type": "code",
   "execution_count": 115,
   "id": "a0d27638",
   "metadata": {},
   "outputs": [],
   "source": [
    "def twit_preproc(df,column,now):\n",
    "    \"\"\"Preprocessing for df[column]\n",
    "        process involved: \n",
    "            - remove punctuation\n",
    "            - lower case\n",
    "            - tokenize & remove stop word \n",
    "            - lemmatize (lemma or stem)\n",
    "    \"\"\"\n",
    "    # remove punctutation\n",
    "    def remove_punctuation(text):\n",
    "        punctuationfree = \"\".join([c for c in str(text) if c not in string.punctuation])\n",
    "        return punctuationfree\n",
    "    df[now]= df[column].apply(lambda x:remove_punctuation(x))\n",
    "    \n",
    "    # Tokenize & to lower case\n",
    "    tokenizer = RegexpTokenizer(r'\\w+')\n",
    "    df[now] = df[now].apply(lambda x:tokenizer.tokenize(x.lower()))\n",
    "\n",
    "    def remove_stopword(x):\n",
    "        return [y for y in x if y not in stopwords.words('english')]\n",
    "    df[now] = df[now].apply(lambda x:remove_stopword(x))\n",
    "    \n",
    "    # lemmatize and join the words\n",
    "    lemmatizer = WordNetLemmatizer()\n",
    "    def sentence_lemmatize(text):\n",
    "        return \" \".join([lemmatizer.lemmatize(x) for x in text])\n",
    "    df[now] = df[now].apply(lambda text:sentence_lemmatize(text))\n",
    "    \n",
    "    return df"
   ]
  },
  {
   "cell_type": "code",
   "execution_count": null,
   "id": "af38be20",
   "metadata": {},
   "outputs": [],
   "source": [
    "df = twit_preproc(df,'text','cleaned')"
   ]
  },
  {
   "cell_type": "code",
   "execution_count": null,
   "id": "ef852262",
   "metadata": {},
   "outputs": [],
   "source": []
  }
 ],
 "metadata": {
  "kernelspec": {
   "display_name": "Python 3 (ipykernel)",
   "language": "python",
   "name": "python3"
  },
  "language_info": {
   "codemirror_mode": {
    "name": "ipython",
    "version": 3
   },
   "file_extension": ".py",
   "mimetype": "text/x-python",
   "name": "python",
   "nbconvert_exporter": "python",
   "pygments_lexer": "ipython3",
   "version": "3.9.7"
  }
 },
 "nbformat": 4,
 "nbformat_minor": 5
}
